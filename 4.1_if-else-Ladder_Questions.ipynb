{
 "cells": [
  {
   "cell_type": "code",
   "execution_count": null,
   "metadata": {},
   "outputs": [],
   "source": []
  },
  {
   "cell_type": "raw",
   "metadata": {},
   "source": [
    "Read Five marks tamil,english,maths,science and social and if all marks are greater than 35 , print pass else print fail"
   ]
  },
  {
   "cell_type": "code",
   "execution_count": 1,
   "metadata": {},
   "outputs": [
    {
     "name": "stdout",
     "output_type": "stream",
     "text": [
      "enter the marks of tamil45\n",
      "enter the marks of english70\n",
      "enter the marks of maths20\n",
      "enter the marks of science35\n",
      "enter the marks of social50\n",
      "fail\n"
     ]
    }
   ],
   "source": [
    "a=int(input(\"enter the marks of tamil\"))\n",
    "b=int(input(\"enter the marks of english\"))\n",
    "c=int(input(\"enter the marks of maths\"))\n",
    "d=int(input(\"enter the marks of science\"))\n",
    "e=int(input(\"enter the marks of social\"))\n",
    "if a>35 and b>35 and c>35 and d>35 and e>35:\n",
    "    print(\"pass\")\n",
    "else:\n",
    "    print(\"fail\")"
   ]
  }
 ],
 "metadata": {
  "kernelspec": {
   "display_name": "Python 3 (ipykernel)",
   "language": "python",
   "name": "python3"
  },
  "language_info": {
   "codemirror_mode": {
    "name": "ipython",
    "version": 3
   },
   "file_extension": ".py",
   "mimetype": "text/x-python",
   "name": "python",
   "nbconvert_exporter": "python",
   "pygments_lexer": "ipython3",
   "version": "3.11.5"
  }
 },
 "nbformat": 4,
 "nbformat_minor": 2
}
